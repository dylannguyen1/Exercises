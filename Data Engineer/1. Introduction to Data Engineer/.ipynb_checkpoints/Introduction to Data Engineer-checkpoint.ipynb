{
 "cells": [
  {
   "cell_type": "code",
   "execution_count": 1,
   "metadata": {},
   "outputs": [],
   "source": [
    "import pandas as pd\n",
    "import numpy as np\n",
    "import matplotlib.pyplot as plt"
   ]
  },
  {
   "cell_type": "markdown",
   "metadata": {},
   "source": [
    "## Task of data engineer\n",
    "Set up scheduled ingestion of data from the application databases to an analytical database"
   ]
  },
  {
   "cell_type": "markdown",
   "metadata": {},
   "source": [
    "Data Engineer:\n",
    "    - Cloud technology\n",
    "    - Develop Scalable Data Architecture\n",
    "    - Streamline Data Acquisition\n",
    "    - Set up processes to bring together data\n",
    "    - Clear Corrupted Data"
   ]
  },
  {
   "cell_type": "markdown",
   "metadata": {},
   "source": [
    "Data Scientist: \n",
    "    - Mining data for pattern\n",
    "    - Apply statistical models on large datasets\n",
    "    - Build predictive models using ML\n",
    "    - Develop tools to monitor business process\n",
    "    - Clean outliers in data"
   ]
  },
  {
   "cell_type": "markdown",
   "metadata": {},
   "source": [
    "Data Engineer Problem:\n",
    "\n",
    "###Data scientists are querying the online store databases directly and slowing down the functioning of the application since it's using the same database. ###\n",
    "Data Engineer should make sure there is a seperate database for analytic\n",
    "\n",
    "###The online store is slow because the application's database server doesn't have enough memory.### infrastructure problem"
   ]
  },
  {
   "cell_type": "markdown",
   "metadata": {},
   "source": [
    "## Tools of data engineer\n",
    "#Processing example\n",
    "##cluster of computers perform these operations using PySpark framework\n",
    "\n",
    "df = spark.read.parquet(\"users.parquet\") \n",
    "\n",
    "outliers = df.filter(df[\"age\"] > 100)\n",
    "\n",
    "print(outliers.count())"
   ]
  },
  {
   "cell_type": "markdown",
   "metadata": {},
   "source": [
    "## Processing tasks\n",
    "- Data engineers often have to join, clean, or organize data before loading it into a destination analytics database. This is done in the data processing, or data transformation step.\n",
    "- Data Processing is distributed over clusters of virtual machines(e.g. using Spark)\n"
   ]
  },
  {
   "cell_type": "markdown",
   "metadata": {},
   "source": [
    "# Scheduling tools\n",
    "\n",
    "Make sure jobs run in a specific order and all dependencies are resolved correctly.\n",
    "\n",
    "Make sure the jobs run at midnight UTC each day.\n",
    "\n",
    "###Scale up the number of nodes when there's lots of data to be processed.### Jobs of processing tools"
   ]
  },
  {
   "cell_type": "markdown",
   "metadata": {},
   "source": [
    "Why Cloud computing ?\n",
    "\n",
    "The cloud can provide you with the resources you need, when you need them."
   ]
  },
  {
   "cell_type": "markdown",
   "metadata": {},
   "source": [
    "## Chapter 2: Data engineering toolbox"
   ]
  },
  {
   "cell_type": "markdown",
   "metadata": {},
   "source": [
    "Databases: A usually large collection of data organized especially for rapid search and retrieval\n",
    "\n",
    "- Holds data\n",
    "- Organise data\n",
    "- Retrieve/ Search Data\n",
    "Database management system- \n",
    "DBMS -much more organised than file systems\n",
    "- functitons: search, replication\n",
    "Structured vs unstructured data"
   ]
  },
  {
   "cell_type": "markdown",
   "metadata": {},
   "source": [
    "SQL database schema:\n",
    "    \n",
    "## Create Customer table\n",
    "    CREATE TABLE \"Customer\"(\n",
    "    \"id\" SERIAL not NULL,\n",
    "    \"first_name\" varchar,\n",
    "    \"second_name\" varchar,\n",
    "    PRIMARY KEY (\"id\")\n",
    "    )\n",
    "    \n",
    "## Create order table\n",
    "    CREATE TABLE \"Order\"(\n",
    "    \"id\" SERIAL not NULL,\n",
    "    \"customer_id\" integer REFERENCES \" Customer\",\n",
    "    \"product_name\" varchar,\n",
    "    \"product_price\" integer,\n",
    "        \n",
    "    PRIMARY KEY(\"id\")\n",
    "    )\n",
    "\n",
    "SELECT * FROM \"Customer\"\n",
    "INNER JOIN \"Order\"\n",
    "ON \"customer_id\" = \"Customer\" .\"id\";"
   ]
  },
  {
   "cell_type": "markdown",
   "metadata": {},
   "source": [
    "SQL:\n",
    "    - Customer data in a store's database\n",
    "    - Always has a database schema\n",
    "    - MySQL, PostgreSQL\n",
    "    \n",
    "NoSQL:\n",
    "    - can be schemaless\n",
    "    - Key- value stores: Redis e.g. catching layer in distributed web server\n",
    "    - MongoDB"
   ]
  },
  {
   "cell_type": "markdown",
   "metadata": {},
   "source": [
    "## The database schema\n",
    "\n",
    "#db_engine: database engine, which has been defined for you and is called db_engine\n",
    "#db_enginer = Engine(postgresql://repl@/postgres)    \n",
    "\n",
    "#Complete the SELECT statement\n",
    "\n",
    "data = pd.read_sql(\"\"\"\n",
    "SELECT first_name, last_name FROM \"Customer\"\n",
    "ORDER BY last_name, first_name\n",
    "\"\"\", db_engine)\n",
    "\n",
    "#Show the first 3 rows of the DataFrame\n",
    "\n",
    "print(data.head(n=3))\n",
    "\n",
    "#Show the info of the DataFrame\n",
    "\n",
    "print(data.info())"
   ]
  },
  {
   "cell_type": "code",
   "execution_count": null,
   "metadata": {},
   "outputs": [],
   "source": [
    "# Complete the SELECT statement\n",
    "data = pd.read_sql(\"\"\"\n",
    "SELECT * FROM \"Customer\"\n",
    "INNER JOIN \"Order\"\n",
    "ON \"Order\".\"customer_id\"=\"Customer\".\"id\"\n",
    "\"\"\", db_engine)\n",
    "\n",
    "# Show the id column of data\n",
    "print(data.id)"
   ]
  }
 ],
 "metadata": {
  "kernelspec": {
   "display_name": "Python 3",
   "language": "python",
   "name": "python3"
  },
  "language_info": {
   "codemirror_mode": {
    "name": "ipython",
    "version": 3
   },
   "file_extension": ".py",
   "mimetype": "text/x-python",
   "name": "python",
   "nbconvert_exporter": "python",
   "pygments_lexer": "ipython3",
   "version": "3.7.4"
  }
 },
 "nbformat": 4,
 "nbformat_minor": 2
}
